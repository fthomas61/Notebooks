{
 "cells": [
  {
   "cell_type": "markdown",
   "metadata": {},
   "source": [
    "# Méthode de Newton-Raphson\n",
    "Il faut connaître la fonction et sa dérivée.\n",
    "L'estimation de la solution est affinée en suivant la direction indiquée par la tangente."
   ]
  },
  {
   "cell_type": "code",
   "execution_count": 1,
   "metadata": {},
   "outputs": [
    {
     "name": "stdout",
     "output_type": "stream",
     "text": [
      "2.0\n",
      "1.75\n",
      "1.7321428571428572\n",
      "1.7320508100147276\n",
      "1.7320508075688772\n",
      "1.7320508075688774\n",
      "1.7320508075688772\n",
      "1.7320508075688774\n",
      "1.7320508075688772\n",
      "1.7320508075688774\n",
      "La solution est proche de 1.7320508075688774\n",
      "La vraie solution est 1.7320508075688772\n"
     ]
    }
   ],
   "source": [
    "import math\n",
    "# La fonction qu'on cherche à annuler\n",
    "def f(x):\n",
    "    return x*x - 3\n",
    "# La dérivée d'icelle\n",
    "def fp(x):\n",
    "    return 2*x\n",
    "\n",
    "# Méthode de Newton-Raphson\n",
    "\n",
    "a = 1\n",
    "xa = a\n",
    "\n",
    "for _ in range(10):\n",
    "    xa = xa - f(xa)/fp(xa)\n",
    "    print(xa)\n",
    "    \n",
    "print(\"La solution est proche de\",xa)\n",
    "print(\"La vraie solution est\",math.sqrt(3.0))"
   ]
  },
  {
   "cell_type": "code",
   "execution_count": null,
   "metadata": {
    "collapsed": true
   },
   "outputs": [],
   "source": []
  }
 ],
 "metadata": {
  "kernelspec": {
   "display_name": "Python 3",
   "language": "python",
   "name": "python3"
  },
  "language_info": {
   "codemirror_mode": {
    "name": "ipython",
    "version": 3
   },
   "file_extension": ".py",
   "mimetype": "text/x-python",
   "name": "python",
   "nbconvert_exporter": "python",
   "pygments_lexer": "ipython3",
   "version": "3.6.4"
  }
 },
 "nbformat": 4,
 "nbformat_minor": 2
}
