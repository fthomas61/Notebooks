{
 "cells": [
  {
   "cell_type": "markdown",
   "metadata": {},
   "source": [
    "# Jeu de dés\n",
    "Le jeu est simple : chaque joueur lance deux dés et fait la somme des points. Partie gagnée : 3 points, match nul : 1 point, perdu : 0 point.\n",
    "\n",
    "La fonction random.randint(1,6) renvoie une nombre aléatoire entre 1 et 6.\n",
    "\n",
    "Pour piper les dés, on peut gonfler artificiellement le score d'un des dés d'un joueur.\n"
   ]
  },
  {
   "cell_type": "code",
   "execution_count": 4,
   "metadata": {},
   "outputs": [
    {
     "name": "stdout",
     "output_type": "stream",
     "text": [
      "la partie va commencer entre théo lainé  et sinok\n",
      "989 973\n",
      "théo lainé  gagne\n"
     ]
    }
   ],
   "source": [
    "import random\n",
    "\n",
    "# Pour personaliser le match\n",
    "player1= \"théo lainé\" \n",
    "player2= \"sinok\"\n",
    "\n",
    "# Deux variables dans lesquelles on va accumuler les points de chaque joueur\n",
    "point1=0\n",
    "point2=0\n",
    "\n",
    "print (\"la partie va commencer entre\", player1, \"et\" ,player2)\n",
    "n=654\n",
    "\n",
    "for i in range(n): # On fait n parties\n",
    "    # Lancement de deux dés et somme des scores\n",
    "    d1=random.randint(1,6)\n",
    "    d2=random.randint(1,6)\n",
    "    score1= d1+d2\n",
    "    #print (\"le score de\",player1, \"est \",score1,d1,d2)\n",
    "    d1=random.randint(1,6)\n",
    "    # Si on veut tricher, on peut décommenter les deux lignes ci-dessous\n",
    "    #if i%15==0:\n",
    "    #    d1=d1+1\n",
    "    d2=random.randint(1,6)\n",
    "    score2= d1+d2\n",
    "    #print (\"le score de\",player2, \"est \",score2,d1,d2)\n",
    "    \n",
    "    # Qui a gagné cette partie ?\n",
    "    if score1==score2:\n",
    "        #print (\"match nul\")\n",
    "        point1=point1+1\n",
    "        point2=point2+1\n",
    "    else :\n",
    "        if score1<score2:\n",
    "            #print(player2,\"vainqueur\")\n",
    "            point2=point2+3\n",
    "        else:\n",
    "            #print(player1,\"vainqueur\")\n",
    "            point1=point1+3\n",
    "\n",
    "# Voilà, les n parties sont terminées. Voyons le classement final\n",
    "print (point1,point2)\n",
    "if point1==point2:\n",
    "    print(\"match nul\")\n",
    "else:\n",
    "    if point1<point2:\n",
    "        print(player2,\"gagne\")\n",
    "    else:\n",
    "        print(player1,\"gagne\")\n",
    "    "
   ]
  }
 ],
 "metadata": {
  "kernelspec": {
   "display_name": "Python 3",
   "language": "python",
   "name": "python3"
  },
  "language_info": {
   "codemirror_mode": {
    "name": "ipython",
    "version": 3
   },
   "file_extension": ".py",
   "mimetype": "text/x-python",
   "name": "python",
   "nbconvert_exporter": "python",
   "pygments_lexer": "ipython3",
   "version": "3.6.4"
  }
 },
 "nbformat": 4,
 "nbformat_minor": 2
}
