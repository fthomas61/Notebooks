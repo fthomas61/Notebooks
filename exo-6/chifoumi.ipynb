{
 "cells": [
  {
   "cell_type": "markdown",
   "metadata": {},
   "source": [
    "# Chifoumi\n",
    "On utilise un dé à trois faces pour chaque jouer et in décide que 1 = pierre, 2 = feuille et 3 = ciseaux\n",
    "\n",
    "On fait n parties avec la victoire à 3 points, le nul à 1 point et la défaite à 0 points\n",
    "\n",
    "La logique du calcul du vainqueur est un peu complexe..."
   ]
  },
  {
   "cell_type": "code",
   "execution_count": 2,
   "metadata": {},
   "outputs": [
    {
     "name": "stdout",
     "output_type": "stream",
     "text": [
      "la partie va commencer entre arthur A  et guillaume\n",
      "903 846\n",
      "arthur A  gagne\n"
     ]
    }
   ],
   "source": [
    "import random \n",
    "player1= \"arthur A \" \n",
    "player2= \"guillaume\"\n",
    "point1=0\n",
    "point2=0\n",
    "print (\"la partie va commencer entre\", player1, \"et\" ,player2)\n",
    "n=654\n",
    "for i in range(n):\n",
    "    \n",
    "    d1=random.randint(1,3)\n",
    "    d2=random.randint(1,3)\n",
    "    \n",
    "    #pierre=1\n",
    "    #feuille=2\n",
    "    #ciseau=3\n",
    "    if d1==d2:\n",
    "        point1=point1+1\n",
    "        point2=point2+1\n",
    "    else:\n",
    "        if d1==1:\n",
    "            if d2==2:\n",
    "                point2=point2+3\n",
    "            else:\n",
    "                point1=point1+3\n",
    "        elif d1 == 2:\n",
    "            if d2==1:\n",
    "                point1=point1+3\n",
    "            else:\n",
    "                point2=point2+3\n",
    "        else:\n",
    "            if d2==1:\n",
    "                point2=point2+3\n",
    "            else:\n",
    "                point1=point1+3\n",
    "\n",
    "print(point1,point2)\n",
    "if point1==point2:\n",
    "    print(\"match nul\")\n",
    "else:\n",
    "    if point1<point2:\n",
    "        print(player2,\"gagne\")\n",
    "    else:\n",
    "        print(player1,\"gagne\")\n",
    "    "
   ]
  },
  {
   "cell_type": "code",
   "execution_count": null,
   "metadata": {},
   "outputs": [],
   "source": []
  }
 ],
 "metadata": {
  "kernelspec": {
   "display_name": "Python 3",
   "language": "python",
   "name": "python3"
  },
  "language_info": {
   "codemirror_mode": {
    "name": "ipython",
    "version": 3
   },
   "file_extension": ".py",
   "mimetype": "text/x-python",
   "name": "python",
   "nbconvert_exporter": "python",
   "pygments_lexer": "ipython3",
   "version": "3.6.4"
  }
 },
 "nbformat": 4,
 "nbformat_minor": 2
}
