{
 "cells": [
  {
   "cell_type": "markdown",
   "metadata": {},
   "source": [
    "# Résolution de l'équation f(x)=0\n",
    "On cherche à résoudre $f(x) = x^2 - 3 =0$\n",
    "\n",
    "Pour x compris entre 1 et 5"
   ]
  },
  {
   "cell_type": "code",
   "execution_count": 2,
   "metadata": {},
   "outputs": [
    {
     "name": "stdout",
     "output_type": "stream",
     "text": [
      "La solution est comprise entre 1.7320508075681573 et 1.7320508075717953\n",
      "La vraie solution est 1.7320508075688772\n"
     ]
    }
   ],
   "source": [
    "import math\n",
    "# La fonction qu'on cherche à annuler\n",
    "def f(x):\n",
    "    return x*x - 3\n",
    "\n",
    "# Méthode de dichotomie\n",
    "\n",
    "a = 1\n",
    "b = 5\n",
    "\n",
    "xa = a\n",
    "xb = b\n",
    "\n",
    "for _ in range(0,40):\n",
    "    # Intervalle de départ [xa,xb], xm au milieu\n",
    "    # Dans quel intervalle se situe la solution ?\n",
    "    # [xa,xm] ou [xm,xb] ? La fonction change-t'elle de signe entre\n",
    "    # xa et xm ou entre xm et xb ?\n",
    "    #print(\"intervalle avant dichotomie [\",xa,',',xb,']')\n",
    "    xm = (xa+xb)/2.0\n",
    "    if f(xa)*f(xm) < 0:\n",
    "        xb = xm\n",
    "    else:\n",
    "        xa = xm\n",
    "    #print(\"intervalle après dichotomie [\",xa,',',xb,']')    \n",
    "\n",
    "print(\"La solution est comprise entre\",xa,\"et\",xb)\n",
    "print(\"La vraie solution est\",math.sqrt(3.0))\n"
   ]
  }
 ],
 "metadata": {
  "kernelspec": {
   "display_name": "Python 3",
   "language": "python",
   "name": "python3"
  },
  "language_info": {
   "codemirror_mode": {
    "name": "ipython",
    "version": 3
   },
   "file_extension": ".py",
   "mimetype": "text/x-python",
   "name": "python",
   "nbconvert_exporter": "python",
   "pygments_lexer": "ipython3",
   "version": "3.6.4"
  }
 },
 "nbformat": 4,
 "nbformat_minor": 2
}
