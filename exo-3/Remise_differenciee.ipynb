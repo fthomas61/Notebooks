{
 "cells": [
  {
   "cell_type": "markdown",
   "metadata": {},
   "source": [
    "# Remise différenciée\n",
    "Exercice simplissime : nous sommes à la caisse d'un magasin. Si le caddy du client dépasse 90€, on fait une remise de 10%, sinon, c'est plein pot !\n",
    "\n",
    "On va relever le montant du caddy, faire le calcul et afficher le montant à payer."
   ]
  },
  {
   "cell_type": "code",
   "execution_count": 2,
   "metadata": {},
   "outputs": [
    {
     "name": "stdout",
     "output_type": "stream",
     "text": [
      "Entrez le montant du caddy : 123.\n",
      "Le montant à payer est 110.7\n"
     ]
    }
   ],
   "source": [
    "montantDuCaddy = float(input('Entrez le montant du caddy : '))\n",
    "\n",
    "# On initialise la montant à payer à la valeur du caddy\n",
    "montantAPayer = montantDuCaddy\n",
    "\n",
    "# On applique une remise ... ou pas\n",
    "if montantDuCaddy > 90. :\n",
    "    montantAPayer = montantDuCaddy * 0.9\n",
    "    \n",
    "print('Le montant à payer est',montantAPayer)"
   ]
  },
  {
   "cell_type": "markdown",
   "metadata": {},
   "source": [
    "On peut vouloir rendre variable le taux de remise ainsi que le montant minimal donnant droit à cette remise. C'est plus facile de changer les deux paramètres au début du programme que de chercher toutes les occurences de 90. ou de 0.9 dans le programme."
   ]
  },
  {
   "cell_type": "code",
   "execution_count": 5,
   "metadata": {},
   "outputs": [
    {
     "name": "stdout",
     "output_type": "stream",
     "text": [
      "Entrez le montant du caddy : 123\n",
      "Le montant à payer est 110.7\n"
     ]
    }
   ],
   "source": [
    "# Paramètres\n",
    "montantMinimum = 90.\n",
    "tauxRemise = 0.1\n",
    "\n",
    "# On y va\n",
    "montantDuCaddy = float(input('Entrez le montant du caddy : '))\n",
    "\n",
    "# On initialise la montant à payer à la valeur du caddy\n",
    "montantAPayer = montantDuCaddy\n",
    "\n",
    "# On applique une remise ... ou pas\n",
    "if montantDuCaddy > montantMinimum :\n",
    "    montantAPayer = montantDuCaddy * (1.0 - tauxRemise)\n",
    "    \n",
    "print('Le montant à payer est',montantAPayer)"
   ]
  }
 ],
 "metadata": {
  "kernelspec": {
   "display_name": "Python 3",
   "language": "python",
   "name": "python3"
  },
  "language_info": {
   "codemirror_mode": {
    "name": "ipython",
    "version": 3
   },
   "file_extension": ".py",
   "mimetype": "text/x-python",
   "name": "python",
   "nbconvert_exporter": "python",
   "pygments_lexer": "ipython3",
   "version": "3.6.4"
  }
 },
 "nbformat": 4,
 "nbformat_minor": 2
}
