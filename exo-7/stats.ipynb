{
 "cells": [
  {
   "cell_type": "markdown",
   "metadata": {},
   "source": [
    "# Statistiques sur l'âge de [p|m]aternité\n",
    "Sur la population de la classe.\n",
    "\n",
    "Bon, ça ne répond pas à la question puisque la question était l'âge des parents à la naissance de leur premier enfant alors que là on note l'âge de nos parents à notre naissance à nous. Mais ça fait quand même manipuler des listes et des calculs de statistiques : moyenne et écart type."
   ]
  },
  {
   "cell_type": "code",
   "execution_count": 2,
   "metadata": {},
   "outputs": [
    {
     "name": "stdout",
     "output_type": "stream",
     "text": [
      "[31, 49, 28, 27, 28, 31, 33, 43, 34, 39, 43, 28, 38, 36, 32, 34]\n",
      "[29, 32, 24, 28, 28, 32, 30, 40, 32, 31, 38, 29, 34, 39, 30, 36]\n",
      "Moyenne des âges de notre père à notre naissance 34.625 avec un écart type de 6.354788220966403\n",
      "Moyenne des âges de notre mère à notre naissance 32.0 avec un écart type de 4.412104562073146\n"
     ]
    }
   ],
   "source": [
    "import math\n",
    "# Deux listes initialement vides pour stocker les âges de notre mère et notre père à notre naissance\n",
    "agem = []\n",
    "agep = []\n",
    "# La fonction append() permet d'ajouter un élément à la suite d'une liste\n",
    "agep.append(31)\n",
    "agem.append(29)\n",
    "agep.append(49)\n",
    "agem.append(32)\n",
    "agep.append(28)\n",
    "agem.append(24)\n",
    "agep.append(27)\n",
    "agem.append(28)\n",
    "agep.append(28)\n",
    "agem.append(28)\n",
    "agep.append(31)\n",
    "agem.append(32)\n",
    "agep.append(33)\n",
    "agem.append(30)\n",
    "agep.append(43)\n",
    "agem.append(40)\n",
    "agep.append(34)\n",
    "agem.append(32)\n",
    "agep.append(39)\n",
    "agem.append(31)\n",
    "agep.append(43)\n",
    "agem.append(38)\n",
    "agep.append(28)\n",
    "agem.append(29)\n",
    "agep.append(38)\n",
    "agem.append(34)\n",
    "agem.append(39)\n",
    "agep.append(36)\n",
    "agem.append(30)\n",
    "agep.append(32)\n",
    "agem.append(36)\n",
    "agep.append(34)\n",
    "print(agep)\n",
    "print(agem)\n",
    "\n",
    "# Calcul de la moyenne des âges\n",
    "# de notre père\n",
    "sage=0.0\n",
    "for i in agep:\n",
    "    sage=sage+i\n",
    "magep = sage / len(agep)\n",
    "\n",
    "# de notre mère\n",
    "sage=0.0\n",
    "for i in agem:\n",
    "    sage=sage+i\n",
    "magem = sage / len(agem)\n",
    "\n",
    "# Calcul de l'écart type\n",
    "# de notre père\n",
    "variance=0.0\n",
    "for i in agep:\n",
    "    variance=variance+(i-magep)*(i-magep)\n",
    "variance=variance/(len(agep)-1)\n",
    "ecartp=math.sqrt(variance)\n",
    "\n",
    "# de notre mère\n",
    "variance=0.0\n",
    "for i in agem:\n",
    "    variance=variance+(i-magem)*(i-magem)\n",
    "variance=variance/(len(agem)-1)\n",
    "ecartm=math.sqrt(variance)\n",
    "\n",
    "print(\"Moyenne des âges de notre père à notre naissance\",magep,\"avec un écart type de\",ecartp)\n",
    "print(\"Moyenne des âges de notre mère à notre naissance\",magem,\"avec un écart type de\",ecartm)"
   ]
  },
  {
   "cell_type": "code",
   "execution_count": null,
   "metadata": {
    "collapsed": true
   },
   "outputs": [],
   "source": []
  }
 ],
 "metadata": {
  "kernelspec": {
   "display_name": "Python 3",
   "language": "python",
   "name": "python3"
  },
  "language_info": {
   "codemirror_mode": {
    "name": "ipython",
    "version": 3
   },
   "file_extension": ".py",
   "mimetype": "text/x-python",
   "name": "python",
   "nbconvert_exporter": "python",
   "pygments_lexer": "ipython3",
   "version": "3.6.4"
  }
 },
 "nbformat": 4,
 "nbformat_minor": 2
}
