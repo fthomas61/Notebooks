{
 "cells": [
  {
   "cell_type": "markdown",
   "metadata": {},
   "source": [
    "# La monnaie en Syldavie\n",
    "Hervé passe ses vacances en Syldavie. Dans ce pays, les pièces de\n",
    "monnaie n'ont plus cours, et il n'existe que trois sortes de billets de\n",
    "banque, qui valent respectivement 57, 62 et 72 khôrs (couronnes).\n",
    "<br>\n",
    "\n",
    "Hier, Hervé a acheté des croissants à la boulangerie, qui lui ont coûté\n",
    "4 couronnes. Il a donné un certain nombre de billets, d'un montant\n",
    "inférieur à 600 khôrs, et le vendeur a pu lui rendre la monnaie\n",
    "exacte de son achat.\n",
    "<br>\n",
    "\n",
    "Quelle somme Hervé a-t'il donné au vendeur?\n",
    "<br>\n",
    "\n",
    "S'il y en a plusieurs, on donnera la plus petite."
   ]
  },
  {
   "cell_type": "code",
   "execution_count": 10,
   "metadata": {},
   "outputs": [
    {
     "name": "stdout",
     "output_type": "stream",
     "text": [
      "{0, 513, 516, 518, 521, 523, 526, 528, 531, 533, 536, 538, 541, 543, 546, 548, 551, 553, 556, 558, 561, 563, 566, 568, 57, 570, 573, 62, 575, 576, 578, 580, 583, 72, 585, 588, 590, 593, 595, 598, 114, 119, 124, 129, 134, 144, 171, 176, 181, 186, 191, 196, 201, 206, 216, 228, 233, 238, 243, 248, 253, 258, 263, 268, 273, 278, 285, 288, 290, 295, 300, 305, 310, 315, 320, 325, 330, 335, 340, 342, 345, 347, 350, 352, 357, 360, 362, 367, 372, 377, 382, 387, 392, 397, 399, 402, 404, 407, 409, 412, 414, 417, 419, 422, 424, 429, 432, 434, 439, 444, 449, 454, 456, 459, 461, 464, 466, 469, 471, 474, 476, 479, 481, 484, 486, 489, 491, 494, 496, 501, 504, 506, 511}\n",
      "bingo 570 et 566 sont possibles !\n",
      "bingo 580 et 576 sont possibles !\n"
     ]
    }
   ],
   "source": [
    "# x = nombre de billets de 57, inférieur à 10\n",
    "# y = nombre de billets de 62, inférieur à 9\n",
    "# z = nombre de billets de 72, inférieur à 8\n",
    "e = set()\n",
    "for x in range(0,11):\n",
    "    for y in range(0,10):\n",
    "        for z in range(0,9):\n",
    "            s = x*57 + y*62 + z*72\n",
    "            if s<600 :\n",
    "                #print(x,y,z,s)\n",
    "                e.add(s)\n",
    "print(e)\n",
    "for s in e:         # Pour chaque somme d'argent que je peux donner\n",
    "    if s-4 in e:    # Le commercant peut il me rendre somme - 4 ?\n",
    "        print(\"bingo\",s,\"et\",s-4,\"sont possibles !\")"
   ]
  },
  {
   "cell_type": "code",
   "execution_count": 11,
   "metadata": {},
   "outputs": [
    {
     "name": "stdout",
     "output_type": "stream",
     "text": [
      "{0, 513, 516, 518, 521, 523, 526, 528, 531, 533, 536, 538, 541, 543, 546, 548, 551, 553, 556, 558, 561, 563, 566, 568, 57, 570, 573, 62, 575, 576, 578, 580, 583, 72, 585, 588, 590, 593, 595, 598, 114, 119, 124, 129, 134, 144, 171, 176, 181, 186, 191, 196, 201, 206, 216, 228, 233, 238, 243, 248, 253, 258, 263, 268, 273, 278, 285, 288, 290, 295, 300, 305, 310, 315, 320, 325, 330, 335, 340, 342, 345, 347, 350, 352, 357, 360, 362, 367, 372, 377, 382, 387, 392, 397, 399, 402, 404, 407, 409, 412, 414, 417, 419, 422, 424, 429, 432, 434, 439, 444, 449, 454, 456, 459, 461, 464, 466, 469, 471, 474, 476, 479, 481, 484, 486, 489, 491, 494, 496, 501, 504, 506, 511}\n",
      "{512, 514, 517, 519, 522, 524, 527, 529, 532, 534, 537, 539, 542, 544, 547, 549, 552, 554, 557, 559, 562, 564, 53, 566, 569, 58, 571, 572, 574, 576, 579, 68, 581, 584, 586, 589, 591, 594, 110, 115, 120, 125, 130, 140, 167, 172, 177, 182, 187, 192, 197, 202, 212, 224, 229, 234, 239, 244, 249, 254, 259, 264, 269, 274, 281, 284, 286, 291, 296, 301, 306, 311, 316, 321, 326, 331, 336, 338, 341, 343, 346, 348, 353, 356, 358, 363, 368, 373, 378, 383, 388, 393, 395, 398, 400, 403, 405, 408, 410, 413, 415, 418, 420, 425, 428, 430, 435, 440, 445, 450, 452, 455, 457, 460, 462, 465, 467, 470, 472, 475, 477, 480, 482, 485, 487, 490, 492, 497, 500, 502, 507, -4, 509}\n",
      "{576, 566}\n"
     ]
    }
   ],
   "source": [
    "# Une variante en explicitant l'ensemble des sommes qu'Hervé peut donner\n",
    "# et l'ensemble de ces sommes dont on déduit 4 khôrs. Il ne reste plus qu'à\n",
    "# tester l'intersection entre ces deux ensembles.\n",
    "\n",
    "# x = nombre de billets de 57, inférieur à 10\n",
    "# y = nombre de billets de 62, inférieur à 9\n",
    "# z = nombre de billets de 72, inférieur à 8\n",
    "e = set()\n",
    "em4 = set()\n",
    "for x in range(0,11):\n",
    "    for y in range(0,10):\n",
    "        for z in range(0,9):\n",
    "            s = x*57 + y*62 + z*72\n",
    "            if s<600 :\n",
    "                #print(x,y,z,s)\n",
    "                e.add(s)\n",
    "                em4.add(s-4)\n",
    "print(e)\n",
    "print(em4)\n",
    "print(e&em4)"
   ]
  },
  {
   "cell_type": "code",
   "execution_count": null,
   "metadata": {
    "collapsed": true
   },
   "outputs": [],
   "source": []
  }
 ],
 "metadata": {
  "kernelspec": {
   "display_name": "Python 3",
   "language": "python",
   "name": "python3"
  },
  "language_info": {
   "codemirror_mode": {
    "name": "ipython",
    "version": 3
   },
   "file_extension": ".py",
   "mimetype": "text/x-python",
   "name": "python",
   "nbconvert_exporter": "python",
   "pygments_lexer": "ipython3",
   "version": "3.6.4"
  }
 },
 "nbformat": 4,
 "nbformat_minor": 2
}
