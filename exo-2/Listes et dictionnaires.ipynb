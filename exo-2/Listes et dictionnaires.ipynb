{
 "cells": [
  {
   "cell_type": "markdown",
   "metadata": {},
   "source": [
    "# Listes et dictionnaires\n",
    "Python (comme beaucoup d'autres langages) permet de manipuler des données scalaires (un entier, un réel, un booléen) mais aussi des données plus complexes. Nous allons en voir quatre : les listes, les dictionnaires, les tuples et les ensembles. In Python English : list, dict, tuple, set. Listes et dictionnaires sont clairement les plus utilisés.\n",
    "\n",
    "- __list__ : ensemble de données, chacune étant repérée par son numéro d'ordre\n",
    "- __dict__ : ensemble de données, sans ordre particulier, chaque élément est accessible par une clé\n",
    "- __tuple__ : comme une liste, mais \"immutable\", i.e. qu'on ne peut changer une fois créé\n",
    "- __set__ : ensemble de données, parfait pour les opérations ensemblistes : appartenance, intersection, union, etc\n"
   ]
  },
  {
   "cell_type": "markdown",
   "metadata": {},
   "source": [
    "## Les listes\n",
    "Commençons notre exploration par les \"list\"es"
   ]
  },
  {
   "cell_type": "code",
   "execution_count": 1,
   "metadata": {},
   "outputs": [
    {
     "name": "stdout",
     "output_type": "stream",
     "text": [
      "l est une variable de type <class 'list'>\n"
     ]
    }
   ],
   "source": [
    "l = [1,2,3,4]\n",
    "print(\"l est une variable de type\",type(l))"
   ]
  },
  {
   "cell_type": "markdown",
   "metadata": {},
   "source": [
    "### Accès à un élément de la liste\n",
    "On utilise la position de l'élément dans la liste, en commençant à 0"
   ]
  },
  {
   "cell_type": "code",
   "execution_count": 9,
   "metadata": {},
   "outputs": [
    {
     "name": "stdout",
     "output_type": "stream",
     "text": [
      "Le 0ème élément de la liste a pour valeur 10\n",
      "Le 1ème élément de la liste a pour valeur 20\n",
      "Le 2ème élément de la liste a pour valeur 30\n",
      "Le 3ème élément de la liste a pour valeur 40\n",
      "[10, 20, 300, 40]\n",
      "[20, 300]\n",
      "[10, 300]\n",
      "élément de la liste 10\n",
      "élément de la liste 20\n",
      "élément de la liste 300\n",
      "élément de la liste 40\n"
     ]
    }
   ],
   "source": [
    "l = [10,20,30,40]\n",
    "print(\"Le 0ème élément de la liste a pour valeur\",l[0])\n",
    "print(\"Le 1ème élément de la liste a pour valeur\",l[1])\n",
    "print(\"Le 2ème élément de la liste a pour valeur\",l[2])\n",
    "print(\"Le 3ème élément de la liste a pour valeur\",l[3])\n",
    "\n",
    "# Pour changer un élément de la liste en particulier, il suffit de\n",
    "# connaître sa position\n",
    "\n",
    "l[2]=300\n",
    "print(l)\n",
    "\n",
    "# On peut extraire des sous-listes d'une liste\n",
    "l2 = l[1:3]\n",
    "print(l2)\n",
    "\n",
    "l3 = l[0:3:2]\n",
    "print(l3)\n",
    "\n",
    "# Une façon commode de parcourir une liste\n",
    "for e in l:\n",
    "    print(\"élément de la liste\",e)\n"
   ]
  },
  {
   "cell_type": "markdown",
   "metadata": {},
   "source": [
    "### Fonctions de listes\n",
    "Il existe des fonctions permettant de récupérer la longueur d'une liste, d'insérer une valeur, etc"
   ]
  },
  {
   "cell_type": "code",
   "execution_count": 21,
   "metadata": {},
   "outputs": [
    {
     "name": "stdout",
     "output_type": "stream",
     "text": [
      "3 est la longueur de la liste\n",
      "4 est la longueur de la liste\n",
      "['Francois', 'Franck', 'Patrick', 'Régis']\n"
     ]
    }
   ],
   "source": [
    "l = [\"Francois\",\"Franck\",\"Patrick\"]\n",
    "\n",
    "print(len(l),\"est la longueur de la liste\")\n",
    "\n",
    "# Ajoutons Régis\n",
    "l.append(\"Régis\")\n",
    "print(len(l),\"est la longueur de la liste\")\n",
    "print(l)\n",
    "\n",
    "# Tout savoir sur les fonctions de liste\n",
    "help(l)\n"
   ]
  },
  {
   "cell_type": "markdown",
   "metadata": {},
   "source": [
    "### On peut tout à fait avoir des listes ... de listes\n",
    "Un façon de travailler avec des tableaux. Même si, la manipulation de tableaux numériques utilisera plutôt un module Python spécialisé nommé numpy."
   ]
  },
  {
   "cell_type": "code",
   "execution_count": 27,
   "metadata": {},
   "outputs": [
    {
     "name": "stdout",
     "output_type": "stream",
     "text": [
      "[1, 4, 9]\n",
      "36\n"
     ]
    }
   ],
   "source": [
    "matrice2x3 = [[ 1, 4, 9],\n",
    "              [16,25,36]]\n",
    "# La première ligne de cette matrice 2x3\n",
    "print(matrice2x3[0])\n",
    "# Le 2ème élément de la 1ème ligne\n",
    "print(matrice2x3[1][2])"
   ]
  },
  {
   "cell_type": "markdown",
   "metadata": {},
   "source": [
    "### Listes et chaines de caractères\n",
    "En fait les chaines de caractères sont \"immutables\" mais on peut les convertir en liste, modifier la liste et reconvertir en chaine de caractères."
   ]
  },
  {
   "cell_type": "code",
   "execution_count": 50,
   "metadata": {},
   "outputs": [
    {
     "name": "stdout",
     "output_type": "stream",
     "text": [
      "<class 'str'> Voila le printemps\n",
      "La lettre numéro 9 de Voila le printemps est p\n",
      "<class 'str'> Voilà le printemps\n"
     ]
    }
   ],
   "source": [
    "s = \"Voila le printemps\"\n",
    "print(type(s),s)\n",
    "print(\"La lettre numéro 9 de\",s,\"est\",s[9])\n",
    "\n",
    "# Corrigeons une petite faute d'orthographe\n",
    "l = list(s)\n",
    "l[4]='à'\n",
    "s = ''.join(l)\n",
    "print(type(s),s)"
   ]
  },
  {
   "cell_type": "markdown",
   "metadata": {},
   "source": [
    "## Les tuples\n",
    "Comme les listes mais non modifiables"
   ]
  },
  {
   "cell_type": "code",
   "execution_count": 35,
   "metadata": {},
   "outputs": [
    {
     "name": "stdout",
     "output_type": "stream",
     "text": [
      "Je m'appelle Francois Thomas\n"
     ]
    }
   ],
   "source": [
    "t = (\"Francois\",\"Thomas\")\n",
    "print(\"Je m'appelle\",t[0],t[1])"
   ]
  },
  {
   "cell_type": "markdown",
   "metadata": {},
   "source": [
    "Les tuples sont \"immutables\". Et c'est bien dommage pour moi :-)"
   ]
  },
  {
   "cell_type": "code",
   "execution_count": 36,
   "metadata": {
    "scrolled": false
   },
   "outputs": [
    {
     "name": "stdout",
     "output_type": "stream",
     "text": [
      "Je m'appelle Francois Thomas\n"
     ]
    },
    {
     "ename": "TypeError",
     "evalue": "'tuple' object does not support item assignment",
     "output_type": "error",
     "traceback": [
      "\u001b[0;31m---------------------------------------------------------------------------\u001b[0m",
      "\u001b[0;31mTypeError\u001b[0m                                 Traceback (most recent call last)",
      "\u001b[0;32m<ipython-input-36-2bd1e2f75871>\u001b[0m in \u001b[0;36m<module>\u001b[0;34m()\u001b[0m\n\u001b[1;32m      4\u001b[0m \u001b[0;31m# Essayons de changer de nom\u001b[0m\u001b[0;34m\u001b[0m\u001b[0;34m\u001b[0m\u001b[0m\n\u001b[1;32m      5\u001b[0m \u001b[0;34m\u001b[0m\u001b[0m\n\u001b[0;32m----> 6\u001b[0;31m \u001b[0mt\u001b[0m\u001b[0;34m[\u001b[0m\u001b[0;36m1\u001b[0m\u001b[0;34m]\u001b[0m\u001b[0;34m=\u001b[0m\u001b[0;34m\"Ronaldo\"\u001b[0m\u001b[0;34m\u001b[0m\u001b[0m\n\u001b[0m\u001b[1;32m      7\u001b[0m \u001b[0mprint\u001b[0m\u001b[0;34m(\u001b[0m\u001b[0;34m\"Je suis devenu\"\u001b[0m\u001b[0;34m,\u001b[0m\u001b[0mt\u001b[0m\u001b[0;34m[\u001b[0m\u001b[0;36m0\u001b[0m\u001b[0;34m]\u001b[0m\u001b[0;34m,\u001b[0m\u001b[0mt\u001b[0m\u001b[0;34m[\u001b[0m\u001b[0;36m1\u001b[0m\u001b[0;34m]\u001b[0m\u001b[0;34m,\u001b[0m\u001b[0;34m\"\\o/\"\u001b[0m\u001b[0;34m)\u001b[0m\u001b[0;34m\u001b[0m\u001b[0m\n",
      "\u001b[0;31mTypeError\u001b[0m: 'tuple' object does not support item assignment"
     ]
    }
   ],
   "source": [
    "t = (\"Francois\",\"Thomas\")\n",
    "print(\"Je m'appelle\",t[0],t[1])\n",
    "\n",
    "# Essayons de changer de nom\n",
    "\n",
    "t[1]=\"Ronaldo\"\n",
    "print(\"Je suis devenu\",t[0],t[1],\"\\o/\")"
   ]
  },
  {
   "cell_type": "markdown",
   "metadata": {},
   "source": [
    "#### La structure try: except:\n",
    "permet de gérer élégamment les erreurs qui pourraient survenir lors de l'exécution d'un programme. Comme son nom l'indique, on essaie (try) un traitement et si ça queute (except, exception, erreur), on fait autre chose mais au moins le programme continue."
   ]
  },
  {
   "cell_type": "code",
   "execution_count": 34,
   "metadata": {},
   "outputs": [
    {
     "name": "stdout",
     "output_type": "stream",
     "text": [
      "Je m'appelle Francois Thomas\n",
      "Impossible de devenir Francois Ronaldo :-(\n",
      "Je m'appelle toujours Francois Thomas\n"
     ]
    }
   ],
   "source": [
    "t = (\"Francois\",\"Thomas\")\n",
    "print(\"Je m'appelle\",t[0],t[1])\n",
    "\n",
    "# Essayons de changer de nom\n",
    "\n",
    "try:\n",
    "    t[1]=\"Ronaldo\"\n",
    "    print(\"Je suis devenu\",t[0],t[1],\"\\o/\")\n",
    "except:\n",
    "    print(\"Impossible de devenir\",t[0],\"Ronaldo\",\":-(\")\n",
    "    \n",
    "print(\"Je m'appelle toujours\",t[0],t[1])"
   ]
  },
  {
   "cell_type": "markdown",
   "metadata": {},
   "source": [
    "## Les dictionnaires\n",
    "dict en Python. Ils peuvent aussi s'appeler tableaux associatifs ou clé-valeur ou key-value. Ici pas d'ordre entre les éléments mais un accès par clé."
   ]
  },
  {
   "cell_type": "code",
   "execution_count": 40,
   "metadata": {},
   "outputs": [
    {
     "name": "stdout",
     "output_type": "stream",
     "text": [
      "Le gardien est Navas\n",
      "L'attaquant droit est Benzema\n",
      "Le titulaire du poste de gardien est Navas\n",
      "Le titulaire du poste de lateral gauche est Marcelo\n",
      "Le titulaire du poste de central gauche est Ramos\n",
      "Le titulaire du poste de central droit est Varane\n",
      "Le titulaire du poste de lateral droit est Carvajal\n",
      "Le titulaire du poste de sentinelle est Casemiro\n",
      "Le titulaire du poste de relayeur gauche est Kroos\n",
      "Le titulaire du poste de relayeur droit est Modric\n",
      "Le titulaire du poste de meneur de jeu est Isco\n",
      "Le titulaire du poste de attaquant gauche est Ronaldo\n",
      "Le titulaire du poste de attaquant droit est Benzema\n",
      "Le meneur de jeu est désormais Asensio\n"
     ]
    }
   ],
   "source": [
    "d = { 'gardien':\"Navas\",'lateral gauche':\"Marcelo\",\n",
    "      'central gauche':\"Ramos\",'central droit':\"Varane\",'lateral droit':\"Carvajal\",\n",
    "      'sentinelle':\"Casemiro\",'relayeur gauche':\"Kroos\",'relayeur droit':\"Modric\",\n",
    "      'meneur de jeu':\"Isco\",'attaquant gauche':\"Ronaldo\",'attaquant droit':\"Benzema\"}\n",
    "\n",
    "# On accède chaque élément via une clé\n",
    "print(\"Le gardien est\",d['gardien'])\n",
    "print(\"L'attaquant droit est\",d['attaquant droit'])\n",
    "# 'gardien' est la clé, \"Navas\" est la valeur\n",
    "\n",
    "# Une façon commode de parcourir un dictionnaire\n",
    "for poste in d.keys():\n",
    "    print(\"Le titulaire du poste de\",poste,\"est\",d[poste])\n",
    "\n",
    "# Effectuons un changement\n",
    "d['meneur de jeu']=\"Asensio\"\n",
    "print(\"Le meneur de jeu est désormais\",d['meneur de jeu'])\n"
   ]
  },
  {
   "cell_type": "markdown",
   "metadata": {},
   "source": [
    "## Les ensembles (set)\n",
    "Les opérations qu'on peut réaliser sur les ensembles sont, sans surprise, les opérations ensemblistes : union, intesection, difference, appartenance "
   ]
  },
  {
   "cell_type": "code",
   "execution_count": 45,
   "metadata": {},
   "outputs": [
    {
     "name": "stdout",
     "output_type": "stream",
     "text": [
      "Ah ben ! Qu'est-ce que j'apprends ? 4 est un carré ?\n",
      "L'interesction {1, 9, 25}\n",
      "La différence {3, 5, 7, 11, 13, 15, 17, 19, 21, 23, 27}\n",
      "L'union {1, 3, 4, 5, 7, 9, 11, 13, 15, 16, 17, 19, 21, 23, 25, 27}\n"
     ]
    }
   ],
   "source": [
    "carres = {1,4,9,16,25}\n",
    "impairs = {1,3,5,7,9,11,13,15,17,19,21,23,25,27}\n",
    "\n",
    "if 2 in impairs:\n",
    "    print(\"Ouh la, rien ne va plus\")\n",
    "\n",
    "if 4 in carres:\n",
    "    print(\"Ah ben ! Qu'est-ce que j'apprends ? 4 est un carré ?\")\n",
    "    \n",
    "# Intersection (&)\n",
    "print(\"L'intersection\",impairs & carres)\n",
    "\n",
    "# La différence (-)\n",
    "print(\"La différence\",impairs - carres)\n",
    "\n",
    "# L'union (|)\n",
    "print(\"L'union\",impairs | carres)"
   ]
  },
  {
   "cell_type": "markdown",
   "metadata": {},
   "source": [
    "# Jouons les oracles !"
   ]
  },
  {
   "cell_type": "code",
   "execution_count": 3,
   "metadata": {},
   "outputs": [
    {
     "name": "stdout",
     "output_type": "stream",
     "text": [
      "Vous êtes 16\n",
      "L'oracle a décidé. Ce sera Marine L : numéro 4\n"
     ]
    }
   ],
   "source": [
    "# import random est l'ordre Python qui permet d'ajouter la définition\n",
    "#               de fonctions de calculs aléatoires\n",
    "import random\n",
    "l = [\"Arthur J\",\"Aurélien\",\"Jeanne L.\",\"Sofia\",\"Marine L\",\n",
    "     \"Jeanne C\",\"Marine C\",\"Théo P.\",\"Amadou\",\"Steve\",\n",
    "     \"Théo Lai.\",\"Arthur A.\",\"Salimata\",\"Guillaume\",\n",
    "     \"Victor D.\",\"Victor C.\"]\n",
    "\n",
    "print(\"Vous êtes\",len(l))\n",
    "\n",
    "i = random.randint(0,len(l)-1)\n",
    "print(\"L'oracle a décidé. Ce sera\",l[i],\": numéro\",i)"
   ]
  }
 ],
 "metadata": {
  "kernelspec": {
   "display_name": "Python 3",
   "language": "python",
   "name": "python3"
  },
  "language_info": {
   "codemirror_mode": {
    "name": "ipython",
    "version": 3
   },
   "file_extension": ".py",
   "mimetype": "text/x-python",
   "name": "python",
   "nbconvert_exporter": "python",
   "pygments_lexer": "ipython3",
   "version": "3.6.4"
  }
 },
 "nbformat": 4,
 "nbformat_minor": 2
}
