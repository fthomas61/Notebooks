{
 "cells": [
  {
   "cell_type": "markdown",
   "metadata": {},
   "source": [
    "# Premiers rampements !\n"
   ]
  },
  {
   "cell_type": "markdown",
   "metadata": {},
   "source": [
    "# Et la première fonction : print()\n",
    "Comme en maths, une fonction prend des paramètres en entrée et fournit, en général, un résultat en sortie. Quelque chose comme \n",
    "\n",
    "$r = f(x,y,z)$\n",
    "\n",
    "La fonction print() est particulière car elle ne produit pas vraiment de résultat mais affiche seulement à l'écran ce qu'on lui passe en paramètres (arguments en programmation).\n",
    "\n",
    "Le marqueur d'une fonction, ce sont les parenthèses ()."
   ]
  },
  {
   "cell_type": "code",
   "execution_count": 2,
   "metadata": {},
   "outputs": [
    {
     "name": "stdout",
     "output_type": "stream",
     "text": [
      "Bonjour QLIO !\n",
      "Salut c'est cool !\n",
      "Il reste 3 minutes jusqu'à la pause...\n"
     ]
    }
   ],
   "source": [
    "print(\"Bonjour QLIO !\")\n",
    "print(\"Salut c'est cool !\")\n",
    "print(\"Il reste\",30-27,\"minutes jusqu'à la pause...\")"
   ]
  },
  {
   "cell_type": "markdown",
   "metadata": {},
   "source": [
    "# La notion de variable\n",
    "\n",
    "C'est une notion centrale en programmation. On hésitera pas à utiliser une variable pour chaque entité manipulée par le programme.\n",
    "\n",
    "Le nom de la variable est à la discrétion du programmeur (c'est vous !). On peut utiliser les lettres (non accentuées), les chiffres et le caractère \\_. Attention, les noms de variables sont \"case-sensitive\". \"age\" n'est pas la même variable que \"Age\" ou \"aGe\"."
   ]
  },
  {
   "cell_type": "markdown",
   "metadata": {},
   "source": [
    "# Premier programme un peu sérieux\n",
    "On va calculer le périmètre d'un rectangle (wow !). On commence par demander l'entrée de la longueur et de la largeur puis on calcule le périmètre et on l'affiche."
   ]
  },
  {
   "cell_type": "markdown",
   "metadata": {},
   "source": [
    "# Une variante pour nos amis anglophones\n",
    "On entre les dimensions en mètres et on affiche le résultat en mètres et en yards. 1 yard = 0.9144 m"
   ]
  },
  {
   "cell_type": "markdown",
   "metadata": {},
   "source": [
    "# Test de primalité\n",
    "Rappel : un nombre est premier s'il est supérieur à 1 et n'est divisible que par 1 et par lui-même. Quelques exemples : \n",
    "\n",
    "- 2 est premier\n",
    "- 3 est premier\n",
    "- 4 n'est pas premier (4 est divisible par 1, par 4 __et__ par 2)\n",
    "- 5 est premier\n",
    "- 6 n'est pas premier (6 est divisible par 1, par 6 __et__ par 3)\n",
    "- 7 est premier\n",
    "- 8 n'est pas premier (8 est divisible par 1, par 8 __et__ par 2 et 4)\n"
   ]
  }
 ],
 "metadata": {
  "kernelspec": {
   "display_name": "Python 3",
   "language": "python",
   "name": "python3"
  },
  "language_info": {
   "codemirror_mode": {
    "name": "ipython",
    "version": 3
   },
   "file_extension": ".py",
   "mimetype": "text/x-python",
   "name": "python",
   "nbconvert_exporter": "python",
   "pygments_lexer": "ipython3",
   "version": "3.6.3"
  }
 },
 "nbformat": 4,
 "nbformat_minor": 2
}
