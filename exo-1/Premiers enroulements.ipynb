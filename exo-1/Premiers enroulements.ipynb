{
 "cells": [
  {
   "cell_type": "markdown",
   "metadata": {},
   "source": [
    "# Premiers rampements !\n"
   ]
  },
  {
   "cell_type": "markdown",
   "metadata": {},
   "source": [
    "# Et la première fonction : print()\n",
    "Comme en maths, une fonction prend des paramètres en entrée et fournit, en général, un résultat en sortie. Quelque chose comme \n",
    "\n",
    "$r = f(x,y,z)$\n",
    "\n",
    "La fonction print() est particulière car elle ne produit pas vraiment de résultat mais affiche seulement à l'écran ce qu'on lui passe en paramètres (arguments en programmation).\n",
    "\n",
    "Le marqueur d'une fonction, ce sont les parenthèses ()."
   ]
  },
  {
   "cell_type": "code",
   "execution_count": 2,
   "metadata": {},
   "outputs": [
    {
     "name": "stdout",
     "output_type": "stream",
     "text": [
      "Bonjour QLIO !\n",
      "Salut c'est cool !\n",
      "Il reste 3 minutes jusqu'à la pause...\n"
     ]
    }
   ],
   "source": [
    "print(\"Bonjour QLIO !\")\n",
    "print(\"Salut c'est cool !\")\n",
    "print(\"Il reste\",30-27,\"minutes jusqu'à la pause...\")"
   ]
  },
  {
   "cell_type": "markdown",
   "metadata": {},
   "source": [
    "# La notion de variable\n",
    "\n",
    "C'est une notion centrale en programmation. On hésitera pas à utiliser une variable pour chaque entité manipulée par le programme.\n",
    "\n",
    "Le nom de la variable est à la discrétion du programmeur (c'est vous !). On peut utiliser les lettres (non accentuées), les chiffres et le caractère \\_. Attention, les noms de variables sont \"case-sensitive\". \"age\" n'est pas la même variable que \"Age\" ou \"aGe\"."
   ]
  },
  {
   "cell_type": "markdown",
   "metadata": {},
   "source": [
    "Une ligne qui commence par un # est un commentaire : pas exécuté mais qui permet de noter ce que le programme est supposé réaliser.\n",
    "\n",
    "Dans cet exemple, on a défini 4 variables. Retrouvez leur nom...\n",
    "\n",
    "La fonction input() retourne une chaine de caractères\n",
    "La fonction int() transforme cette chaine en un entier (integer)\n",
    "\n",
    "On pourra modifier ce programme pour qu'il travaille avec des variables réelles (float)."
   ]
  },
  {
   "cell_type": "code",
   "execution_count": 2,
   "metadata": {},
   "outputs": [
    {
     "name": "stdout",
     "output_type": "stream",
     "text": [
      "Veuillez entrer la valeur de la première variable : 1\n",
      "Veuillez entrer la veleur de la seconde variable : 1\n",
      "La somme de 1 et 1 vaut 2\n",
      "Le produit de 1 et 1 vaut 1\n",
      "1 et 1 sont donc les racines de l'équation du second degré x^2 - 2 x +  1 = 0 !\n"
     ]
    }
   ],
   "source": [
    "# Ceci est un commentaire\n",
    "v1 = int(input(\"Veuillez entrer la valeur de la première variable : \"))\n",
    "v2 = int(input(\"Veuillez entrer la veleur de la seconde variable : \"))\n",
    "somme = v1 + v2                # Ici on calcule la somme\n",
    "print(\"La somme de\",v1,\"et\",v2,\"vaut\",somme)\n",
    "produit = v1 * v2              # Ici on calcule le produit\n",
    "print(\"Le produit de\",v1,\"et\",v2,\"vaut\",produit)\n",
    "\n",
    "# Petit rappel de mathématiques :-)\n",
    "\n",
    "print(v1,\"et\",v2,\"sont donc les racines de l'équation du second degré x^2 -\",somme,\"x + \",produit,\"= 0 !\")"
   ]
  },
  {
   "cell_type": "markdown",
   "metadata": {},
   "source": [
    "# Premier programme un peu sérieux\n",
    "On va calculer le périmètre d'un rectangle (wow !). On commence par demander l'entrée de la longueur et de la largeur puis on calcule le périmètre et on l'affiche. On considère que les côtés du rectangles peuvent être décimaux."
   ]
  },
  {
   "cell_type": "code",
   "execution_count": 5,
   "metadata": {},
   "outputs": [
    {
     "name": "stdout",
     "output_type": "stream",
     "text": [
      "Entrez la longueur du rectangle : 1.2\n",
      "Entrez la largeur du rectangle : 2.8\n",
      "Le périmètre d'un rectangle de longueur 1.2 et de largeur 2.8 est 8.0\n"
     ]
    }
   ],
   "source": [
    "longueur = float(input(\"Entrez la longueur du rectangle : \"))\n",
    "largeur = float(input(\"Entrez la largeur du rectangle : \"))\n",
    "perimetre = 2 * (longueur + largeur)\n",
    "print(\"Le périmètre d'un rectangle de longueur\",longueur,\"et de largeur\",largeur,\"est\",perimetre)"
   ]
  },
  {
   "cell_type": "markdown",
   "metadata": {},
   "source": [
    "# Une variante pour nos amis anglophones\n",
    "On entre les dimensions en mètres et on affiche le résultat en mètres et en yards. 1 yard = 0.9144 m"
   ]
  },
  {
   "cell_type": "code",
   "execution_count": 6,
   "metadata": {},
   "outputs": [
    {
     "name": "stdout",
     "output_type": "stream",
     "text": [
      "Entrez la longueur du rectangle (en m) : 1.2\n",
      "Entrez la largeur du rectangle (en m) : 2.8\n",
      "Le périmètre d'un rectangle de longueur 1.2 et de largeur 2.8 est 8.0 m\n",
      "which is 8.748906386701663 yards\n"
     ]
    }
   ],
   "source": [
    "metersPerYard = 0.9144 # Facteur de conversion\n",
    "longueur = float(input(\"Entrez la longueur du rectangle (en m) : \"))\n",
    "largeur = float(input(\"Entrez la largeur du rectangle (en m) : \"))\n",
    "perimetre = 2 * (longueur + largeur)\n",
    "print(\"Le périmètre d'un rectangle de longueur\",longueur,\"et de largeur\",largeur,\"est\",perimetre,\"m\")\n",
    "perimetreYards = perimetre / metersPerYard\n",
    "print(\"which is\",perimetreYards,\"yards\")"
   ]
  },
  {
   "cell_type": "markdown",
   "metadata": {},
   "source": [
    "# Test de primalité\n",
    "Rappel : un nombre est premier s'il est supérieur à 1 et n'est divisible que par 1 et par lui-même. Quelques exemples : \n",
    "\n",
    "- 2 est premier\n",
    "- 3 est premier\n",
    "- 4 n'est pas premier (4 est divisible par 1, par 4 __et__ par 2)\n",
    "- 5 est premier\n",
    "- 6 n'est pas premier (6 est divisible par 1, par 6 __et__ par 3)\n",
    "- 7 est premier\n",
    "- 8 n'est pas premier (8 est divisible par 1, par 8 __et__ par 2 et 4)\n",
    "\n",
    "Nous allons implémenter un algorithme permettant de tester la primalité d'un nombre. Le premier algorithme auquel on peut penser est le suivant : on prend un nombre n et on fait la division entière de n par tous les nombres compris entre 2 et n-1. Si le reste de la division entière est nul pour au moins un de ces nombres alors le nombre n n'est pas premier. Pourquoi éviter 1 et n ? Parce que tout nombre est divisible par 1 et par n. C'est s'il n'est justement divisible que par ces deux là qu'il est premier.\n",
    "\n",
    "Cet exercice va introduire la notion de calcul itératif/boucle et de test logique. Et aussi l'opérateur qui permet de tester le reste de la division entière.\n",
    "\n",
    "Lorsque a et b sont des entiers :\n",
    "\n",
    "q = a // b (q est le quotient de a par b)\n",
    "\n",
    "r = a % b (r est le reste de la division entière de a par b)\n",
    "\n",
    "$a = q * b + r$\n",
    "\n",
    "Si le reste est nul, alors b divise a.\n",
    "\n",
    "Il existe des algorithmes beaucoup plus sioux que ça bien sûr. Chercher et implémenter ?"
   ]
  },
  {
   "cell_type": "code",
   "execution_count": 20,
   "metadata": {},
   "outputs": [
    {
     "name": "stdout",
     "output_type": "stream",
     "text": [
      "Entrez le nombre dont on veut tester la primalité : 77232917\n",
      "Congratulations : 77232917 is prime !\n"
     ]
    }
   ],
   "source": [
    "n = int(input(\"Entrez le nombre dont on veut tester la primalité : \"))\n",
    "\n",
    "# C'est parti, on va parcourir toutes les valeurs entre 2 et n-1\n",
    "# On prend une hypothèse optimiste : n est premier !\n",
    "\n",
    "isPrime = True      # isPrime est une variable de type booléen (True/False)\n",
    "for i in range(2,n): # range(2,n) parcourt l'espace 2 à n exclu (donc de 2 à n-1)\n",
    "    if n%i == 0:\n",
    "        isPrime = False\n",
    "        break\n",
    "    else:\n",
    "        pass\n",
    "\n",
    "# Voilà. Qu'est il advenu de isPrime entre son initialisation et la fin de la boucle ?\n",
    "if isPrime:\n",
    "    print(\"Congratulations :\",n,\"is prime !\")\n",
    "else:\n",
    "    print(\"Nope.\",n,\"is not prime. Try again.\")"
   ]
  }
 ],
 "metadata": {
  "kernelspec": {
   "display_name": "Python 3",
   "language": "python",
   "name": "python3"
  },
  "language_info": {
   "codemirror_mode": {
    "name": "ipython",
    "version": 3
   },
   "file_extension": ".py",
   "mimetype": "text/x-python",
   "name": "python",
   "nbconvert_exporter": "python",
   "pygments_lexer": "ipython3",
   "version": "3.6.4"
  }
 },
 "nbformat": 4,
 "nbformat_minor": 2
}
